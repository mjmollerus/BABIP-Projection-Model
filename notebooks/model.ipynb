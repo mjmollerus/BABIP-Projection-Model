{
 "cells": [
  {
   "cell_type": "markdown",
   "metadata": {},
   "source": [
    "Here I do a bit of feature engineering and create the final model. Afterwards, I show how the model would predict the BABIPs of the players with the highest and lowest actual BABIPs of 2019 to illustrate how it could be used for outlier detection to see what players got 'lucky' or 'unlucky'."
   ]
  },
  {
   "cell_type": "code",
   "execution_count": 3,
   "metadata": {},
   "outputs": [],
   "source": [
    "from pyforest import *\n",
    "from sklearn.model_selection import train_test_split\n",
    "from sklearn.linear_model import LinearRegression, Ridge, Lasso\n",
    "from sklearn.preprocessing import StandardScaler, PolynomialFeatures\n",
    "from sklearn.model_selection import KFold\n",
    "from sklearn.model_selection import cross_val_score\n",
    "import scipy.stats as stats"
   ]
  },
  {
   "cell_type": "code",
   "execution_count": 4,
   "metadata": {},
   "outputs": [],
   "source": [
    "df = pd.read_csv('../data/trimmeddf.csv')"
   ]
  },
  {
   "cell_type": "markdown",
   "metadata": {},
   "source": [
    "# Feature Engineering"
   ]
  },
  {
   "cell_type": "code",
   "execution_count": 5,
   "metadata": {},
   "outputs": [],
   "source": [
    "#these three features were the most valuable as determined by cross validation in earlier model iterations\n",
    "#Coors is simply whether or not a player was a member of the Rockies in a given season\n",
    "#Pull/OppoRatio is a shorthand for how pull-heavy and therefore shiftable a player was\n",
    "#Shift%*GB is a means of weighting how much a player was shifted by their groundball rate\n",
    "\n",
    "df['Coors'] = pd.get_dummies(df.Team,drop_first=True)['Rockies']\n",
    "df['Pull/OppoRatio'] = df.Pull/df.Oppo\n",
    "df['Shift%*GB'] = df['Shift%']*df['GB']"
   ]
  },
  {
   "cell_type": "code",
   "execution_count": 6,
   "metadata": {},
   "outputs": [],
   "source": [
    "df.fillna(df.mean(),inplace=True)"
   ]
  },
  {
   "cell_type": "markdown",
   "metadata": {},
   "source": [
    "# Modeling"
   ]
  },
  {
   "cell_type": "code",
   "execution_count": 7,
   "metadata": {},
   "outputs": [],
   "source": [
    "#grabbing features most important as determined by prior cross validation\n",
    "X = df[['ISO','LD','GB','IFFB','IFH','SweetSpot%','Above95MPH%','FBLDAvgEV','Age','Shift%','Coors','Pull/OppoRatio','Shift%*GB']]\n",
    "y = df.Babip"
   ]
  },
  {
   "cell_type": "code",
   "execution_count": 8,
   "metadata": {},
   "outputs": [],
   "source": [
    "def split_and_cv_lin(X,y):\n",
    "    \n",
    "    '''trains and cross validates linear model'''\n",
    "    \n",
    "    X,X_test,y,y_test = train_test_split(X,y,test_size=.2,random_state=42)\n",
    "    X,y = np.array(X),np.array(y)\n",
    "    \n",
    "    train_r2s = []\n",
    "    cv_lm_r2s = []\n",
    "    lm_MAEs = []\n",
    "\n",
    "    kf = KFold(n_splits=5,shuffle=True,random_state=43)\n",
    "    \n",
    "    for train_ind, val_ind in kf.split(X,y):\n",
    "        \n",
    "        X_train,y_train = X[train_ind],y[train_ind]\n",
    "        X_val,y_val = X[val_ind],y[val_ind]\n",
    "        \n",
    "        lm = LinearRegression()\n",
    "        lm.fit(X_train,y_train)\n",
    "        cv_lm_r2s.append(lm.score(X_val,y_val))\n",
    "        preds = lm.predict(X_train)\n",
    "        lm_MAEs.append(np.mean(np.abs(preds-y_train)))\n",
    "        train_r2s.append(lm.score(X_train,y_train))\n",
    "    \n",
    "    print(f'Lin Train R^2s: {train_r2s}')\n",
    "    print(f'Lin Mean Train R^2: {np.mean(train_r2s)} +- {np.std(train_r2s)}')\n",
    "    print(f'Lin CV R^2s: {cv_lm_r2s}')\n",
    "    print(f'Lin CV Mean R^2: {np.mean(cv_lm_r2s)} +- {np.std(cv_lm_r2s)}')\n",
    "    print(f'Lin MAEs: {lm_MAEs} \\nMean MAE: {np.mean(lm_MAEs)}')\n",
    "    print(list(zip(X_test.columns,lm.coef_)))"
   ]
  },
  {
   "cell_type": "code",
   "execution_count": 9,
   "metadata": {},
   "outputs": [],
   "source": [
    "def split_and_cv_lasso(X,y,alph):\n",
    "    \n",
    "    '''Trains and cross validates linear model with lasso regularization'''\n",
    "    \n",
    "    X,X_test,y,y_test = train_test_split(X,y,test_size=.2,random_state=42)\n",
    "    X,y = np.array(X),np.array(y)\n",
    "    \n",
    "    cv_lasso_r2s = []\n",
    "    lasso_MAEs = []\n",
    "\n",
    "    kf = KFold(n_splits=5,shuffle=True,random_state=43)\n",
    "    \n",
    "    for train_ind, val_ind in kf.split(X,y):\n",
    "        \n",
    "        X_train,y_train = X[train_ind],y[train_ind]\n",
    "        X_val,y_val = X[val_ind],y[val_ind]\n",
    "        \n",
    "        scaler = StandardScaler()\n",
    "        X_train_scaled=scaler.fit_transform(X_train)\n",
    "        X_val_scaled=scaler.transform(X_val)\n",
    "        \n",
    "        lasso_mod = Lasso(alpha=alph)\n",
    "        lasso_mod.fit(X_train_scaled,y_train)\n",
    "        cv_lasso_r2s.append(lasso_mod.score(X_val_scaled,y_val))\n",
    "        preds = lasso_mod.predict(X_train)\n",
    "        lasso_MAEs.append(np.mean(np.abs(preds-y_train)))\n",
    "        \n",
    "    print(f'Lasso Regression R^2s: {cv_lasso_r2s}')\n",
    "    print(f'Lasso Mean R^2: {np.mean(cv_lasso_r2s)} +- {np.std(cv_lasso_r2s)}')\n",
    "    print(f'Lasso MAEs: {lasso_MAEs} \\nMean MAE: {np.mean(lasso_MAEs)}')\n",
    "    print(list(zip(X_test.columns,lasso_mod.coef_)))"
   ]
  },
  {
   "cell_type": "code",
   "execution_count": 10,
   "metadata": {},
   "outputs": [
    {
     "name": "stdout",
     "output_type": "stream",
     "text": [
      "Lin Train R^2s: [0.565380489242185, 0.552657823048694, 0.579328363608, 0.5609073129057243, 0.5752219609899707]\n",
      "Lin Mean Train R^2: 0.5666991899589149 +- 0.009639278491604801\n",
      "Lin CV R^2s: [0.551699210006994, 0.5978368249893358, 0.4867697320205153, 0.5728351908198821, 0.5127537327916034]\n",
      "Lin CV Mean R^2: 0.5443789381256661 +- 0.04010003642449695\n",
      "Lin MAEs: [0.017854223942225064, 0.018043294031076015, 0.01799841761894388, 0.018042131638789097, 0.017946927981883538] \n",
      "Mean MAE: 0.01797699904258352\n",
      "[('ISO', 0.1908338729297992), ('LD', 0.5565822865173026), ('GB', 0.1822541365633821), ('IFFB', -0.11166717782870011), ('IFH', 0.3119000211102147), ('SweetSpot%', 0.05445318820930306), ('Above95MPH%', 0.10517789384654809), ('FBLDAvgEV', -0.0023994548387191446), ('Age', -0.0012275728389581624), ('Shift%', -0.04343712250480515), ('Coors', 0.0037289990465493553), ('Pull/OppoRatio', -0.00809106662119824), ('Shift%*GB', 0.05212035971956449)]\n"
     ]
    }
   ],
   "source": [
    "#linear model shows decent R^2s, as well as low MAE. difference between train and cv R^2s is small\n",
    "split_and_cv_lin(X,y)"
   ]
  },
  {
   "cell_type": "code",
   "execution_count": 11,
   "metadata": {},
   "outputs": [
    {
     "name": "stdout",
     "output_type": "stream",
     "text": [
      "Lasso Regression R^2s: [0.5509285389820348, 0.5968163792600534, 0.48673532914212925, 0.5730780216247415, 0.5160433370359809]\n",
      "Lasso Mean R^2: 0.544720321208988 +- 0.03934800917835551\n",
      "Lasso MAEs: [0.5511626637756329, 0.5163871851250886, 0.45320819396560574, 0.5618555538421344, 0.530682662101607] \n",
      "Mean MAE: 0.5226592517620137\n",
      "[('ISO', 0.010407597576428613), ('LD', 0.01676919233435744), ('GB', 0.012541890966629724), ('IFFB', -0.004762611631223315), ('IFH', 0.008919066413201322), ('SweetSpot%', 0.001914625861472265), ('Above95MPH%', 0.00640528019784111), ('FBLDAvgEV', -0.004523942219022281), ('Age', -0.0040437339105614135), ('Shift%', -0.004868924744873086), ('Coors', 0.000551081168959199), ('Pull/OppoRatio', -0.003967857931028737), ('Shift%*GB', 0.0)]\n"
     ]
    }
   ],
   "source": [
    "#lasso requires tiny alpha to get any decent R^2 and never approaches a usable MAE\n",
    "split_and_cv_lasso(X,y,.0001)"
   ]
  },
  {
   "cell_type": "code",
   "execution_count": 25,
   "metadata": {},
   "outputs": [
    {
     "name": "stdout",
     "output_type": "stream",
     "text": [
      "Train R^2 = 0.5652286913656981\n",
      "Train MAE = 0.018007640496566012\n",
      "Train RMSE = 0.022734344092026237\n"
     ]
    }
   ],
   "source": [
    "#train on full train set\n",
    "X_train,X_test,y_train,y_test = train_test_split(X,y,test_size=.2,random_state=42)\n",
    "\n",
    "lm = LinearRegression()\n",
    "lm.fit(X_train,y_train)\n",
    "\n",
    "pred = lm.predict(X_train)\n",
    "res = pred - y_train\n",
    "print(f'Train R^2 = {lm.score(X_train,y_train)}')\n",
    "print(f'Train MAE = {np.mean(np.abs(pred-y_train))}')\n",
    "print(f'Train RMSE = {np.sqrt(np.mean((y_train - pred)**2))}')"
   ]
  },
  {
   "cell_type": "code",
   "execution_count": 26,
   "metadata": {},
   "outputs": [
    {
     "data": {
      "text/plain": [
       "Text(0, 0.5, 'Residuals')"
      ]
     },
     "execution_count": 26,
     "metadata": {},
     "output_type": "execute_result"
    },
    {
     "data": {
      "image/png": "[encoded data removed]",
      "text/plain": [
       "<Figure size 720x576 with 1 Axes>"
      ]
     },
     "metadata": {
      "needs_background": "light"
     },
     "output_type": "display_data"
    }
   ],
   "source": [
    "#our residuals are pretty randomly distributed\n",
    "plt.figure(figsize=(10,8))\n",
    "\n",
    "plt.scatter(pred, res ,alpha=.4)\n",
    "plt.title(\"Linear Model Residual Plot\",size=30)\n",
    "plt.xlabel(\"Prediction\",size=20)\n",
    "plt.ylabel(\"Residuals\",size=20)"
   ]
  },
  {
   "cell_type": "code",
   "execution_count": 14,
   "metadata": {},
   "outputs": [
    {
     "name": "stdout",
     "output_type": "stream",
     "text": [
      "Test R^2 = 0.53945945331237\n",
      "Test MAE = 0.02013141490866667\n",
      "Test RMSE = 0.02527422273817511\n"
     ]
    }
   ],
   "source": [
    "#predict and score test set\n",
    "pred = lm.predict(X_test)\n",
    "\n",
    "print(f'Test R^2 = {lm.score(X_test,y_test)}')\n",
    "print(f'Test MAE = {np.mean(np.abs(pred-y_test))}')\n",
    "print(f'Test RMSE = {np.sqrt(np.mean((y_test - pred)**2))}')"
   ]
  },
  {
   "cell_type": "markdown",
   "metadata": {},
   "source": [
    "# Individual Players"
   ]
  },
  {
   "cell_type": "markdown",
   "metadata": {},
   "source": [
    "Now let's look at the most extreme players by BABIP in 2019 and see if our model can tell us if they were doing something to earn that BABIP or if they were substantially over or under performing their peripherals"
   ]
  },
  {
   "cell_type": "code",
   "execution_count": 20,
   "metadata": {},
   "outputs": [],
   "source": [
    "def predictPlayer(playerX,playery,playername):\n",
    "    print(playername)\n",
    "    print(f'Predicted BABIP: {lm.predict(np.array(playerX).reshape(1,-1))[0]}')\n",
    "    print(f'Actual BABIP: {playery}')\n",
    "    print(f'Difference: {abs(playery - lm.predict(np.array(playerX).reshape(1,-1)))[0]}')\n",
    "    print(f'2 MAEs: {2*np.mean(np.abs(pred-y_test))}\\n')\n",
    "    playerdict = {'name': playername,'predbabip':lm.predict(np.array(playerX).reshape(1,-1))[0],\n",
    "            'actbabip':playery}\n",
    "    return playerdict"
   ]
  },
  {
   "cell_type": "code",
   "execution_count": 21,
   "metadata": {},
   "outputs": [],
   "source": [
    "top_index = df[(df.Year == 2019)].sort_values('Babip',ascending=False).head(10).index\n",
    "bottom_index = df[(df.Year == 2019)].sort_values('Babip',ascending=True).head(10).index"
   ]
  },
  {
   "cell_type": "code",
   "execution_count": 22,
   "metadata": {},
   "outputs": [
    {
     "name": "stdout",
     "output_type": "stream",
     "text": [
      "BABIP Overperformers\n",
      "\n",
      "Yoán Moncada\n",
      "Predicted BABIP: 0.32082957652244853\n",
      "Actual BABIP: 0.406\n",
      "Difference: 0.0851704234775515\n",
      "2 MAEs: 0.04026282981733334\n",
      "\n",
      "Tim Anderson\n",
      "Predicted BABIP: 0.36134261606806806\n",
      "Actual BABIP: 0.399\n",
      "Difference: 0.037657383931931965\n",
      "2 MAEs: 0.04026282981733334\n",
      "\n",
      "Joey Gallo\n",
      "Predicted BABIP: 0.3051588581386615\n",
      "Actual BABIP: 0.368\n",
      "Difference: 0.06284114186133849\n",
      "2 MAEs: 0.04026282981733334\n",
      "\n",
      "Brock Holt\n",
      "Predicted BABIP: 0.31581822299439755\n",
      "Actual BABIP: 0.365\n",
      "Difference: 0.049181777005602445\n",
      "2 MAEs: 0.04026282981733334\n",
      "\n",
      "Cameron Maybin\n",
      "Predicted BABIP: 0.31211593496098006\n",
      "Actual BABIP: 0.365\n",
      "Difference: 0.052884065039019934\n",
      "2 MAEs: 0.04026282981733334\n",
      "\n",
      "Trevor Story\n",
      "Predicted BABIP: 0.33962206242175763\n",
      "Actual BABIP: 0.361\n",
      "Difference: 0.021377937578242356\n",
      "2 MAEs: 0.04026282981733334\n",
      "\n",
      "Aaron Judge\n",
      "Predicted BABIP: 0.36448481456009507\n",
      "Actual BABIP: 0.36\n",
      "Difference: 0.004484814560095085\n",
      "2 MAEs: 0.04026282981733334\n",
      "\n",
      "Howie Kendrick\n",
      "Predicted BABIP: 0.31756115308274435\n",
      "Actual BABIP: 0.359\n",
      "Difference: 0.041438846917255634\n",
      "2 MAEs: 0.04026282981733334\n",
      "\n",
      "James McCann\n",
      "Predicted BABIP: 0.3288541771937109\n",
      "Actual BABIP: 0.359\n",
      "Difference: 0.03014582280628908\n",
      "2 MAEs: 0.04026282981733334\n",
      "\n",
      "Christian Yelich\n",
      "Predicted BABIP: 0.3330846315095131\n",
      "Actual BABIP: 0.355\n",
      "Difference: 0.021915368490486864\n",
      "2 MAEs: 0.04026282981733334\n",
      "\n"
     ]
    }
   ],
   "source": [
    "print('BABIP Overperformers\\n')\n",
    "for num in top_index:\n",
    "    result = predictPlayer(X.iloc[num],y[num],df['Player'].iloc[num])"
   ]
  },
  {
   "cell_type": "markdown",
   "metadata": {},
   "source": [
    "These players provide some anecdotal support for our model. In general, the hitters with extremely high BABIPs were overperforming their expected BABIPs (with the exception of Aaron Judge, who one would expect to be able to run a high BABIP given his batted ball profile). \n",
    "\n",
    "Several names stick out as prime candidates for regression here, in particular Yoán Mondaca, Tim Anderson, and Brock Holt. All three dramatically over performed thier expected BABIPs, and none of them are power hitters in any real sense of the word and they rely on balls in play to produce value. Given that they are unlikely to conintue such production on balls in play, it is likely that they will not continue to contribute at the levels they did in 2019."
   ]
  },
  {
   "cell_type": "code",
   "execution_count": 23,
   "metadata": {},
   "outputs": [
    {
     "name": "stdout",
     "output_type": "stream",
     "text": [
      "BABIP Underperformers\n",
      "Derek Dietrich\n",
      "Predicted BABIP: 0.23811032662004003\n",
      "Actual BABIP: 0.17600000000000002\n",
      "Difference: 0.06211032662004001\n",
      "2 MAEs: 0.04026282981733334\n",
      "\n",
      "Jay Bruce\n",
      "Predicted BABIP: 0.265802486148492\n",
      "Actual BABIP: 0.2\n",
      "Difference: 0.06580248614849199\n",
      "2 MAEs: 0.04026282981733334\n",
      "\n",
      "Travis Shaw\n",
      "Predicted BABIP: 0.23706816096024758\n",
      "Actual BABIP: 0.21600000000000005\n",
      "Difference: 0.021068160960247523\n",
      "2 MAEs: 0.04026282981733334\n",
      "\n",
      "Jurickson Profar\n",
      "Predicted BABIP: 0.2707071744291111\n",
      "Actual BABIP: 0.218\n",
      "Difference: 0.052707174429111076\n",
      "2 MAEs: 0.04026282981733334\n",
      "\n",
      "Curtis Granderson\n",
      "Predicted BABIP: 0.25305338103251457\n",
      "Actual BABIP: 0.22\n",
      "Difference: 0.03305338103251457\n",
      "2 MAEs: 0.04026282981733334\n",
      "\n",
      "Mike Zunino\n",
      "Predicted BABIP: 0.21034249250022616\n",
      "Actual BABIP: 0.22\n",
      "Difference: 0.009657507499773843\n",
      "2 MAEs: 0.04026282981733334\n",
      "\n",
      "Justin Smoak\n",
      "Predicted BABIP: 0.26302788485086204\n",
      "Actual BABIP: 0.223\n",
      "Difference: 0.04002788485086203\n",
      "2 MAEs: 0.04026282981733334\n",
      "\n",
      "Yonder Alonso\n",
      "Predicted BABIP: 0.2707550854599303\n",
      "Actual BABIP: 0.224\n",
      "Difference: 0.04675508545993032\n",
      "2 MAEs: 0.04026282981733334\n",
      "\n",
      "Austin Hedges\n",
      "Predicted BABIP: 0.24896593868342895\n",
      "Actual BABIP: 0.228\n",
      "Difference: 0.020965938683428942\n",
      "2 MAEs: 0.04026282981733334\n",
      "\n",
      "Maikel Franco\n",
      "Predicted BABIP: 0.2580837800373616\n",
      "Actual BABIP: 0.236\n",
      "Difference: 0.02208378003736161\n",
      "2 MAEs: 0.04026282981733334\n",
      "\n"
     ]
    }
   ],
   "source": [
    "print('BABIP Underperformers')\n",
    "for num in bottom_index:\n",
    "    predictPlayer(X.iloc[num],y[num],df['Player'].iloc[num])"
   ]
  },
  {
   "cell_type": "markdown",
   "metadata": {},
   "source": [
    "Not suprisingly, players that ran very low BABIPs were also very likely to be dramatically underperforming their expected BABIPs.\n",
    "\n",
    "Most players here were bad in 2019, and this data just tells us that they were probably 'deserved' to be slightly less bad. The one compelling case is that of Derek Dietrich. He underperformed his predicted BABIP by a whopping .062, the second most in the dataset, yet somehow still ran a 102 wRC+ while only getting a hit one in every 6 times he put the ball in play. He walks and hits home runs at slightly above average clips, but he still produced pretty well despite being having exceptionally bad luck on batted balls. If there is any player worth investigating as a 2020 breakout candidate from this model, it is almost certainly Dietrich."
   ]
  },
  {
   "cell_type": "code",
   "execution_count": null,
   "metadata": {},
   "outputs": [],
   "source": []
  }
 ],
 "metadata": {
  "kernelspec": {
   "display_name": "Python 3",
   "language": "python",
   "name": "python3"
  },
  "language_info": {
   "codemirror_mode": {
    "name": "ipython",
    "version": 3
   },
   "file_extension": ".py",
   "mimetype": "text/x-python",
   "name": "python",
   "nbconvert_exporter": "python",
   "pygments_lexer": "ipython3",
   "version": "3.7.3"
  }
 },
 "nbformat": 4,
 "nbformat_minor": 2
}
