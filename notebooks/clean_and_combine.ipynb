{
 "cells": [
  {
   "cell_type": "markdown",
   "metadata": {},
   "source": [
    "This notebook contains the code to clean, combine, and filter the data collected in the scraping notebook."
   ]
  },
  {
   "cell_type": "code",
   "execution_count": 1,
   "metadata": {},
   "outputs": [],
   "source": [
    "from pyforest import *"
   ]
  },
  {
   "cell_type": "code",
   "execution_count": null,
   "metadata": {},
   "outputs": [],
   "source": [
    "FG_df=pd.read_csv('../data/fgplayerdf.csv')\n",
    "EV_df=pd.read_csv('../data/EVdf.csv')\n",
    "SS_df=pd.read_csv('../data/SSdf.csv')\n",
    "shift_df = pd.read_csv('../data/Shiftdf.csv')"
   ]
  },
  {
   "cell_type": "markdown",
   "metadata": {},
   "source": [
    "# Clean FG Data"
   ]
  },
  {
   "cell_type": "code",
   "execution_count": null,
   "metadata": {},
   "outputs": [],
   "source": [
    "#trim to columns with correlation to Babip\n",
    "FG_df = FG_df[['Year','Player','Babip','Team','PA','SB','CS','ISO','Spd','LD','FB','GB','IFFB','IFH','BUH','Pull',\n",
    "               'Cent','Oppo','Soft','Med','Hard']]"
   ]
  },
  {
   "cell_type": "code",
   "execution_count": null,
   "metadata": {},
   "outputs": [],
   "source": [
    "#convert rate stats from % to probabilities\n",
    "FG_df[['LD','FB','GB','IFFB','IFH','BUH','Pull','Cent','Oppo','Soft','Med','Hard']].apply(lambda x: x/100,inplace=True)"
   ]
  },
  {
   "cell_type": "code",
   "execution_count": null,
   "metadata": {},
   "outputs": [],
   "source": [
    "#sort by player-year\n",
    "FG_df.sort_values(by=['Player','Year'],inplace=True)"
   ]
  },
  {
   "cell_type": "markdown",
   "metadata": {},
   "source": [
    "# Clean EV Data"
   ]
  },
  {
   "cell_type": "code",
   "execution_count": null,
   "metadata": {},
   "outputs": [],
   "source": [
    "#reformat name, trim, rename, convert to prob, sort by player-year\n",
    "EV_df['Player'] = [f\"{name.split(', ')[1]} {name.split(', ')[0]}\" for name in EV_df['name']]\n",
    "EV_df = EV_df[['season','Player','anglesweetspotpercent','avg_hit_angle',\n",
    "               'avg_hit_speed','brl_percent','ev95percent','fbld','gb']]\n",
    "EV_df.rename(columns={'season':'Year','anglesweetspotpercent':'SweetSpot%','avg_hit_angle':'AvgLauchAngle',\n",
    "                      'avg_hit_speed':'AvgEV','brl_percent':'Barrel%','ev95percent':'Above95MPH%','fbld':'FBLDAvgEV',\n",
    "                      'gb':'GBAvgEV'},inplace=True)\n",
    "EV_df[['SweetSpot%','Barrel%','Above95MPH%']].apply(lambda x: x/100,inplace=True)\n",
    "EV_df.sort_values(by=['Player','Year'],inplace=True)"
   ]
  },
  {
   "cell_type": "markdown",
   "metadata": {},
   "source": [
    "# Clean SS Data"
   ]
  },
  {
   "cell_type": "code",
   "execution_count": null,
   "metadata": {},
   "outputs": [],
   "source": [
    "#reformat name, trim, rename, sort by player-year\n",
    "SS_df['Player'] = [f\"{name.split(', ')[1]} {name.split(', ')[0]}\" for name in SS_df['name_display_last_first']]\n",
    "SS_df = SS_df[['timeframe','Player','age','hp_to_1b','r_sprint_speed_top50percent_pretty']]\n",
    "SS_df.rename(columns={'timeframe':'Year','age':'Age','hp_to_1b':'HometoFirst',\n",
    "                      'r_sprint_speed_top50percent_pretty':'AvgSprintSpeed'},inplace=True)\n",
    "SS_df.sort_values(by=['Player','Year'],inplace=True)"
   ]
  },
  {
   "cell_type": "markdown",
   "metadata": {},
   "source": [
    "# Merge DFs"
   ]
  },
  {
   "cell_type": "code",
   "execution_count": null,
   "metadata": {},
   "outputs": [],
   "source": [
    "#first create a column called PlayerYear in each df and set it as index\n",
    "EV_df['PlayerYear'] = EV_df['Year'].apply(lambda x: str(x).split('.')[0]) + ' ' + smallEVdf['Player']\n",
    "EV_df.set_index('PlayerYear',inplace=True)\n",
    "FG_df['PlayerYear'] = FG_df['Year'].apply(lambda x: str(x).split('.')[0]) + ' ' + smallFGdf['Player']\n",
    "FG_df.set_index('PlayerYear',inplace=True)\n",
    "SS_df['PlayerYear'] = SS_df['Year'].apply(lambda x: str(x).split('.')[0]) + ' ' + smallSSdf['Player']\n",
    "SS_df.set_index('PlayerYear',inplace=True)\n",
    "shift_df['PlayerYear'] = shift_df['Year'].apply(lambda x: str(x).split('.')[0]) + ' ' + smallSSdf['Player']\n",
    "shift_df.set_index('PlayerYear',inplace=True)"
   ]
  },
  {
   "cell_type": "code",
   "execution_count": null,
   "metadata": {},
   "outputs": [],
   "source": [
    "#finally merge into one combined df\n",
    "combineddf = pd.merge(smallFGdf,smallEVdf,how='outer',left_index=True,right_index=True)\n",
    "combineddf = pd.merge(combineddf,smallSSdf,how='outer',left_index=True,right_index=True)\n",
    "combineddf = pd.merge(combineddf,shiftdf,how='outer',left_index=True,right_index=True)"
   ]
  },
  {
   "cell_type": "code",
   "execution_count": null,
   "metadata": {},
   "outputs": [],
   "source": [
    "#drop any entries with no babip and/or fewer that 300 PA\n",
    "combineddf.dropna(subset=['Babip'],inplace=True)\n",
    "combineddf = combineddf[combineddf.PA >= 300]"
   ]
  },
  {
   "cell_type": "code",
   "execution_count": null,
   "metadata": {},
   "outputs": [],
   "source": []
  },
  {
   "cell_type": "code",
   "execution_count": null,
   "metadata": {},
   "outputs": [],
   "source": []
  }
 ],
 "metadata": {
  "kernelspec": {
   "display_name": "Python 3",
   "language": "python",
   "name": "python3"
  },
  "language_info": {
   "codemirror_mode": {
    "name": "ipython",
    "version": 3
   },
   "file_extension": ".py",
   "mimetype": "text/x-python",
   "name": "python",
   "nbconvert_exporter": "python",
   "pygments_lexer": "ipython3",
   "version": "3.7.3"
  }
 },
 "nbformat": 4,
 "nbformat_minor": 2
}
